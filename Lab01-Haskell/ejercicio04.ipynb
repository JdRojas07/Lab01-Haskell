{
 "cells": [
  {
   "cell_type": "code",
   "execution_count": 1,
   "id": "9042b9aa-3d81-44bc-b7e8-05fdc4aaaccd",
   "metadata": {
    "tags": []
   },
   "outputs": [
    {
     "data": {
      "text/plain": [
       "[2,4,6,8,10]"
      ]
     },
     "metadata": {},
     "output_type": "display_data"
    }
   ],
   "source": [
    "take 5 (map (*2) [1..])"
   ]
  },
  {
   "cell_type": "code",
   "execution_count": 2,
   "id": "6807046e-f17e-44ad-b91f-ff4e91304e3c",
   "metadata": {
    "tags": []
   },
   "outputs": [
    {
     "data": {
      "text/plain": [
       "24"
      ]
     },
     "metadata": {},
     "output_type": "display_data"
    }
   ],
   "source": [
    "misterio x y = if x > 10 then y * 2 else x + y\n",
    "misterio (5+7) (4*3)"
   ]
  }
 ],
 "metadata": {
  "kernelspec": {
   "display_name": "Haskell",
   "language": "haskell",
   "name": "haskell"
  },
  "language_info": {
   "codemirror_mode": "ihaskell",
   "file_extension": ".hs",
   "mimetype": "text/x-haskell",
   "name": "haskell",
   "pygments_lexer": "Haskell",
   "version": "9.6.4"
  }
 },
 "nbformat": 4,
 "nbformat_minor": 5
}
